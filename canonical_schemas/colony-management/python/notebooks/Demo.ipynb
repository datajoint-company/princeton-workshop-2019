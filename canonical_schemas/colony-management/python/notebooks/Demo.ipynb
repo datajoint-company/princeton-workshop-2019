{
 "cells": [
  {
   "cell_type": "code",
   "execution_count": 1,
   "metadata": {},
   "outputs": [
    {
     "name": "stdout",
     "output_type": "stream",
     "text": [
      "Connecting shan@workshop-db.datajoint.io:3306\n"
     ]
    }
   ],
   "source": [
    "from pipeline import reference, subject, action"
   ]
  },
  {
   "cell_type": "code",
   "execution_count": 2,
   "metadata": {},
   "outputs": [
    {
     "data": {
      "text/html": [
       "\n",
       "        \n",
       "        <style type=\"text/css\">\n",
       "            .Relation{\n",
       "                border-collapse:collapse;\n",
       "            }\n",
       "            .Relation th{\n",
       "                background: #A0A0A0; color: #ffffff; padding:4px; border:#f0e0e0 1px solid;\n",
       "                font-weight: normal; font-family: monospace; font-size: 100%;\n",
       "            }\n",
       "            .Relation td{\n",
       "                padding:4px; border:#f0e0e0 1px solid; font-size:100%;\n",
       "            }\n",
       "            .Relation tr:nth-child(odd){\n",
       "                background: #ffffff;\n",
       "            }\n",
       "            .Relation tr:nth-child(even){\n",
       "                background: #f3f1ff;\n",
       "            }\n",
       "            /* Tooltip container */\n",
       "            .djtooltip {\n",
       "            }\n",
       "            /* Tooltip text */\n",
       "            .djtooltip .djtooltiptext {\n",
       "                visibility: hidden;\n",
       "                width: 120px;\n",
       "                background-color: black;\n",
       "                color: #fff;\n",
       "                text-align: center;\n",
       "                padding: 5px 0;\n",
       "                border-radius: 6px;\n",
       "                /* Position the tooltip text - see examples below! */\n",
       "                position: absolute;\n",
       "                z-index: 1;\n",
       "            }\n",
       "            #primary {\n",
       "                font-weight: bold;\n",
       "                color: black;\n",
       "            }\n",
       "\n",
       "            #nonprimary {\n",
       "                font-weight: normal;\n",
       "                color: white;\n",
       "            }\n",
       "\n",
       "            /* Show the tooltip text when you mouse over the tooltip container */\n",
       "            .djtooltip:hover .djtooltiptext {\n",
       "                visibility: visible;\n",
       "            }\n",
       "        </style>\n",
       "        \n",
       "        <b></b>\n",
       "            <div style=\"max-height:1000px;max-width:1500px;overflow:auto;\">\n",
       "            <table border=\"1\" class=\"Relation\">\n",
       "                <thead> <tr style=\"text-align: right;\"> <th> <div class=\"djtooltip\">\n",
       "                                <p id=\"primary\">allele</p>\n",
       "                                <span class=\"djtooltiptext\">informal name</span>\n",
       "                            </div></th><th><div class=\"djtooltip\">\n",
       "                                <p id=\"nonprimary\">standard_name</p>\n",
       "                                <span class=\"djtooltiptext\">standard name</span>\n",
       "                            </div></th><th><div class=\"djtooltip\">\n",
       "                                <p id=\"nonprimary\">source</p>\n",
       "                                <span class=\"djtooltiptext\">name of source</span>\n",
       "                            </div></th><th><div class=\"djtooltip\">\n",
       "                                <p id=\"nonprimary\">original_allele_source</p>\n",
       "                                <span class=\"djtooltiptext\">original source of the allele</span>\n",
       "                            </div></th><th><div class=\"djtooltip\">\n",
       "                                <p id=\"nonprimary\">allele_description</p>\n",
       "                                <span class=\"djtooltiptext\">description of the allele</span>\n",
       "                            </div> </th> </tr> </thead>\n",
       "                <tbody> <tr> <td>Ai148</td>\n",
       "<td>(TIT2L-GC6f-ICL-tTA2)-D</td>\n",
       "<td>Jax Lab</td>\n",
       "<td>Allen Institute</td>\n",
       "<td></td></tr><tr><td>Ai93</td>\n",
       "<td>(TITL-GCaMP6f)-D</td>\n",
       "<td>Jax Lab</td>\n",
       "<td>Allen Institute</td>\n",
       "<td></td></tr><tr><td>D1-Cre</td>\n",
       "<td>Drd1-cre</td>\n",
       "<td>Jax Lab</td>\n",
       "<td>Ming Xu, University of Chicago</td>\n",
       "<td></td></tr><tr><td>D2-Cre</td>\n",
       "<td>Drd2-cre</td>\n",
       "<td>Jax Lab</td>\n",
       "<td>Unknown</td>\n",
       "<td></td></tr><tr><td>DAT-IRES-Cre</td>\n",
       "<td>Slc6a3tm1.1(cre)Bkmn</td>\n",
       "<td>Jax Lab</td>\n",
       "<td>Cristina M Backman, National Institute on Drug Abuse (NIH)</td>\n",
       "<td></td></tr><tr><td>Emx1-Cre</td>\n",
       "<td>Emx-IRES-Cre</td>\n",
       "<td>Jax Lab</td>\n",
       "<td>Kevin R. Jones, University of Colorado- Boulder</td>\n",
       "<td></td></tr><tr><td>Slc17a7-IRES2-Cre</td>\n",
       "<td></td>\n",
       "<td>Jax Lab</td>\n",
       "<td>Allen Institute</td>\n",
       "<td></td> </tr> </tbody>\n",
       "            </table>\n",
       "            <p>...</p>\n",
       "            <p>10 tuples</p></div>\n",
       "            "
      ],
      "text/plain": [
       "*allele        standard_name  source      original_allel allele_descrip\n",
       "+------------+ +------------+ +---------+ +------------+ +------------+\n",
       "Ai148          (TIT2L-GC6f-IC Jax Lab     Allen Institut               \n",
       "Ai93           (TITL-GCaMP6f) Jax Lab     Allen Institut               \n",
       "D1-Cre         Drd1-cre       Jax Lab     Ming Xu, Unive               \n",
       "D2-Cre         Drd2-cre       Jax Lab     Unknown                      \n",
       "DAT-IRES-Cre   Slc6a3tm1.1(cr Jax Lab     Cristina M Bac               \n",
       "Emx1-Cre       Emx-IRES-Cre   Jax Lab     Kevin R. Jones               \n",
       "Slc17a7-IRES2-                Jax Lab     Allen Institut               \n",
       "   ...\n",
       " (10 tuples)"
      ]
     },
     "execution_count": 2,
     "metadata": {},
     "output_type": "execute_result"
    }
   ],
   "source": [
    "subject.Allele()"
   ]
  },
  {
   "cell_type": "code",
   "execution_count": null,
   "metadata": {},
   "outputs": [],
   "source": []
  }
 ],
 "metadata": {
  "kernelspec": {
   "display_name": "Python 3",
   "language": "python",
   "name": "python3"
  },
  "language_info": {
   "codemirror_mode": {
    "name": "ipython",
    "version": 3
   },
   "file_extension": ".py",
   "mimetype": "text/x-python",
   "name": "python",
   "nbconvert_exporter": "python",
   "pygments_lexer": "ipython3",
   "version": "3.6.6"
  }
 },
 "nbformat": 4,
 "nbformat_minor": 2
}
