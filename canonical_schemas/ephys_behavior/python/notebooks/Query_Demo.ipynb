{
 "cells": [
  {
   "cell_type": "code",
   "execution_count": 1,
   "metadata": {},
   "outputs": [
    {
     "name": "stdout",
     "output_type": "stream",
     "text": [
      "Connecting root@127.0.0.1:3306\n"
     ]
    }
   ],
   "source": [
    "from datetime import datetime\n",
    "import os\n",
    "\n",
    "import matplotlib.pyplot as plt\n",
    "import numpy as np\n",
    "\n",
    "import datajoint as dj\n",
    "from pipeline import reference, subject, acquisition, stimulation #, behavior, ephys, action\n",
    "from pipeline.helper_functions import parse_prefix"
   ]
  },
  {
   "cell_type": "markdown",
   "metadata": {},
   "source": [
    "Display the schema diagram of the entire data pipeline"
   ]
  },
  {
   "cell_type": "code",
   "execution_count": 2,
   "metadata": {},
   "outputs": [
    {
     "data": {
      "image/png": "[encoded data removed]",
      "text/plain": [
       "<Figure size 432x288 with 1 Axes>"
      ]
     },
     "metadata": {
      "needs_background": "light"
     },
     "output_type": "display_data"
    }
   ],
   "source": [
    "core_erd = dj.ERD(reference) + dj.ERD(subject) + dj.ERD(acquisition) + dj.ERD(stimulation)\n",
    "core_erd.draw()"
   ]
  },
  {
   "cell_type": "markdown",
   "metadata": {},
   "source": [
    "Query raw whole-cell recording"
   ]
  },
  {
   "cell_type": "code",
   "execution_count": 10,
   "metadata": {},
   "outputs": [
    {
     "data": {
      "text/html": [
       "\n",
       "        \n",
       "        <style type=\"text/css\">\n",
       "            .Relation{\n",
       "                border-collapse:collapse;\n",
       "            }\n",
       "            .Relation th{\n",
       "                background: #A0A0A0; color: #ffffff; padding:4px; border:#f0e0e0 1px solid;\n",
       "                font-weight: normal; font-family: monospace; font-size: 100%;\n",
       "            }\n",
       "            .Relation td{\n",
       "                padding:4px; border:#f0e0e0 1px solid; font-size:100%;\n",
       "            }\n",
       "            .Relation tr:nth-child(odd){\n",
       "                background: #ffffff;\n",
       "            }\n",
       "            .Relation tr:nth-child(even){\n",
       "                background: #f3f1ff;\n",
       "            }\n",
       "            /* Tooltip container */\n",
       "            .djtooltip {\n",
       "            }\n",
       "            /* Tooltip text */\n",
       "            .djtooltip .djtooltiptext {\n",
       "                visibility: hidden;\n",
       "                width: 120px;\n",
       "                background-color: black;\n",
       "                color: #fff;\n",
       "                text-align: center;\n",
       "                padding: 5px 0;\n",
       "                border-radius: 6px;\n",
       "                /* Position the tooltip text - see examples below! */\n",
       "                position: absolute;\n",
       "                z-index: 1;\n",
       "            }\n",
       "            #primary {\n",
       "                font-weight: bold;\n",
       "                color: black;\n",
       "            }\n",
       "\n",
       "            #nonprimary {\n",
       "                font-weight: normal;\n",
       "                color: white;\n",
       "            }\n",
       "\n",
       "            /* Show the tooltip text when you mouse over the tooltip container */\n",
       "            .djtooltip:hover .djtooltiptext {\n",
       "                visibility: visible;\n",
       "            }\n",
       "        </style>\n",
       "        \n",
       "        <b></b>\n",
       "            <div style=\"max-height:1000px;max-width:1500px;overflow:auto;\">\n",
       "            <table border=\"1\" class=\"Relation\">\n",
       "                <thead> <tr style=\"text-align: right;\"> <th> <div class=\"djtooltip\">\n",
       "                                <p id=\"primary\">subject_id</p>\n",
       "                                <span class=\"djtooltiptext\">id of the subject (e.g. ANM244028)</span>\n",
       "                            </div></th><th><div class=\"djtooltip\">\n",
       "                                <p id=\"nonprimary\">species</p>\n",
       "                                <span class=\"djtooltiptext\"></span>\n",
       "                            </div></th><th><div class=\"djtooltip\">\n",
       "                                <p id=\"nonprimary\">strain</p>\n",
       "                                <span class=\"djtooltiptext\"></span>\n",
       "                            </div></th><th><div class=\"djtooltip\">\n",
       "                                <p id=\"nonprimary\">animal_source</p>\n",
       "                                <span class=\"djtooltiptext\">source of the animal, Jax, Charles River etc.</span>\n",
       "                            </div></th><th><div class=\"djtooltip\">\n",
       "                                <p id=\"nonprimary\">sex</p>\n",
       "                                <span class=\"djtooltiptext\"></span>\n",
       "                            </div></th><th><div class=\"djtooltip\">\n",
       "                                <p id=\"nonprimary\">date_of_birth</p>\n",
       "                                <span class=\"djtooltiptext\"></span>\n",
       "                            </div></th><th><div class=\"djtooltip\">\n",
       "                                <p id=\"nonprimary\">subject_description</p>\n",
       "                                <span class=\"djtooltiptext\"></span>\n",
       "                            </div> </th> </tr> </thead>\n",
       "                <tbody> <tr> <td>ANM300476</td>\n",
       "<td>Mus musculus</td>\n",
       "<td>B6</td>\n",
       "<td>Jackson</td>\n",
       "<td>M</td>\n",
       "<td>2015-03-28</td>\n",
       "<td>Animal Strain: B6;129P2-Pvalbtm1(cre)Arbr/J, B6;129S-Gt(ROSA)26Sortm32(CAG-COP4*H134R/EYFP)Hze/J;\n",
       "Animal source: Jackson, Jackson;\n",
       "Date of birth: 2015-03-28</td></tr><tr><td>ANM322808</td>\n",
       "<td>Mus musculus</td>\n",
       "<td>B6</td>\n",
       "<td>Jackson</td>\n",
       "<td>M</td>\n",
       "<td>2015-09-16</td>\n",
       "<td>Animal Strain: VGAT-ChR2-EYFP;\n",
       "Animal source: Jackson;\n",
       "Date of birth: 2015-09-16</td></tr><tr><td>ANM323951</td>\n",
       "<td>Mus musculus</td>\n",
       "<td>B6</td>\n",
       "<td>Jackson</td>\n",
       "<td>M</td>\n",
       "<td>2015-09-28</td>\n",
       "<td>Animal Strain: B6;129P2-Pvalbtm1(cre)Arbr/J, B6;129S-Gt(ROSA)26Sortm32(CAG-COP4*H134R/EYFP)Hze/J;\n",
       "Animal source: Jackson, Jackson;\n",
       "Date of birth: 2015-09-28</td></tr><tr><td>ANM323952</td>\n",
       "<td>Mus musculus</td>\n",
       "<td>B6</td>\n",
       "<td>Jackson</td>\n",
       "<td>M</td>\n",
       "<td>2015-09-28</td>\n",
       "<td>Animal Strain: B6;129P2-Pvalbtm1(cre)Arbr/J, B6;129S-Gt(ROSA)26Sortm32(CAG-COP4*H134R/EYFP)Hze/J;\n",
       "Animal source: Jackson, Jackson;\n",
       "Date of birth: 2015-09-28</td></tr><tr><td>ANM323953</td>\n",
       "<td>Mus musculus</td>\n",
       "<td>B6</td>\n",
       "<td>Jackson</td>\n",
       "<td>M</td>\n",
       "<td>2015-09-28</td>\n",
       "<td>Animal Strain: B6;129P2-Pvalbtm1(cre)Arbr/J, B6;129S-Gt(ROSA)26Sortm32(CAG-COP4*H134R/EYFP)Hze/J;\n",
       "Animal source: Jackson, Jackson;\n",
       "Date of birth: 2015-09-28</td></tr><tr><td>ANM324791</td>\n",
       "<td>Mus musculus</td>\n",
       "<td>B6</td>\n",
       "<td>Jackson</td>\n",
       "<td>M</td>\n",
       "<td>2015-10-05</td>\n",
       "<td>Animal Strain: VGAT-ChR2-EYFP;\n",
       "Animal source: Jackson;\n",
       "Date of birth: 2015-10-05</td></tr><tr><td>ANM324792</td>\n",
       "<td>Mus musculus</td>\n",
       "<td>B6</td>\n",
       "<td>Jackson</td>\n",
       "<td>M</td>\n",
       "<td>2015-10-05</td>\n",
       "<td>Animal Strain: VGAT-ChR2-EYFP;\n",
       "Animal source: Jackson;\n",
       "Date of birth: 2015-10-05</td> </tr> </tbody>\n",
       "            </table>\n",
       "            \n",
       "            <p>7 tuples</p></div>\n",
       "            "
      ],
      "text/plain": [
       "*subject_id    species        strain     animal_source  sex     date_of_birth  subject_descri\n",
       "+------------+ +------------+ +--------+ +------------+ +-----+ +------------+ +------------+\n",
       "ANM300476      Mus musculus   B6         Jackson        M       2015-03-28     Animal Strain:\n",
       "ANM322808      Mus musculus   B6         Jackson        M       2015-09-16     Animal Strain:\n",
       "ANM323951      Mus musculus   B6         Jackson        M       2015-09-28     Animal Strain:\n",
       "ANM323952      Mus musculus   B6         Jackson        M       2015-09-28     Animal Strain:\n",
       "ANM323953      Mus musculus   B6         Jackson        M       2015-09-28     Animal Strain:\n",
       "ANM324791      Mus musculus   B6         Jackson        M       2015-10-05     Animal Strain:\n",
       "ANM324792      Mus musculus   B6         Jackson        M       2015-10-05     Animal Strain:\n",
       " (7 tuples)"
      ]
     },
     "execution_count": 10,
     "metadata": {},
     "output_type": "execute_result"
    }
   ],
   "source": [
    "subject.Subject()"
   ]
  },
  {
   "cell_type": "code",
   "execution_count": 11,
   "metadata": {},
   "outputs": [
    {
     "data": {
      "text/html": [
       "\n",
       "        \n",
       "        <style type=\"text/css\">\n",
       "            .Relation{\n",
       "                border-collapse:collapse;\n",
       "            }\n",
       "            .Relation th{\n",
       "                background: #A0A0A0; color: #ffffff; padding:4px; border:#f0e0e0 1px solid;\n",
       "                font-weight: normal; font-family: monospace; font-size: 100%;\n",
       "            }\n",
       "            .Relation td{\n",
       "                padding:4px; border:#f0e0e0 1px solid; font-size:100%;\n",
       "            }\n",
       "            .Relation tr:nth-child(odd){\n",
       "                background: #ffffff;\n",
       "            }\n",
       "            .Relation tr:nth-child(even){\n",
       "                background: #f3f1ff;\n",
       "            }\n",
       "            /* Tooltip container */\n",
       "            .djtooltip {\n",
       "            }\n",
       "            /* Tooltip text */\n",
       "            .djtooltip .djtooltiptext {\n",
       "                visibility: hidden;\n",
       "                width: 120px;\n",
       "                background-color: black;\n",
       "                color: #fff;\n",
       "                text-align: center;\n",
       "                padding: 5px 0;\n",
       "                border-radius: 6px;\n",
       "                /* Position the tooltip text - see examples below! */\n",
       "                position: absolute;\n",
       "                z-index: 1;\n",
       "            }\n",
       "            #primary {\n",
       "                font-weight: bold;\n",
       "                color: black;\n",
       "            }\n",
       "\n",
       "            #nonprimary {\n",
       "                font-weight: normal;\n",
       "                color: white;\n",
       "            }\n",
       "\n",
       "            /* Show the tooltip text when you mouse over the tooltip container */\n",
       "            .djtooltip:hover .djtooltiptext {\n",
       "                visibility: visible;\n",
       "            }\n",
       "        </style>\n",
       "        \n",
       "        <b>Information relating to the Cell and the intracellular recording of this cell (e.g. location, recording device)</b>\n",
       "            <div style=\"max-height:1000px;max-width:1500px;overflow:auto;\">\n",
       "            <table border=\"1\" class=\"Relation\">\n",
       "                <thead> <tr style=\"text-align: right;\"> <th> <div class=\"djtooltip\">\n",
       "                                <p id=\"primary\">subject_id</p>\n",
       "                                <span class=\"djtooltiptext\">id of the subject (e.g. ANM244028)</span>\n",
       "                            </div></th><th><div class=\"djtooltip\">\n",
       "                                <p id=\"primary\">session_time</p>\n",
       "                                <span class=\"djtooltiptext\">session time</span>\n",
       "                            </div></th><th><div class=\"djtooltip\">\n",
       "                                <p id=\"primary\">cell_id</p>\n",
       "                                <span class=\"djtooltiptext\">a string identifying the cell in which this intracellular recording is concerning</span>\n",
       "                            </div></th><th><div class=\"djtooltip\">\n",
       "                                <p id=\"nonprimary\">cell_type</p>\n",
       "                                <span class=\"djtooltiptext\"></span>\n",
       "                            </div></th><th><div class=\"djtooltip\">\n",
       "                                <p id=\"nonprimary\">brain_region</p>\n",
       "                                <span class=\"djtooltiptext\"></span>\n",
       "                            </div></th><th><div class=\"djtooltip\">\n",
       "                                <p id=\"nonprimary\">brain_subregion</p>\n",
       "                                <span class=\"djtooltiptext\"></span>\n",
       "                            </div></th><th><div class=\"djtooltip\">\n",
       "                                <p id=\"nonprimary\">cortical_layer</p>\n",
       "                                <span class=\"djtooltiptext\">layer within cortex</span>\n",
       "                            </div></th><th><div class=\"djtooltip\">\n",
       "                                <p id=\"nonprimary\">hemisphere</p>\n",
       "                                <span class=\"djtooltiptext\"></span>\n",
       "                            </div></th><th><div class=\"djtooltip\">\n",
       "                                <p id=\"nonprimary\">coordinate_ref</p>\n",
       "                                <span class=\"djtooltiptext\"></span>\n",
       "                            </div></th><th><div class=\"djtooltip\">\n",
       "                                <p id=\"nonprimary\">coordinate_ap</p>\n",
       "                                <span class=\"djtooltiptext\">in mm, anterior positive, posterior negative</span>\n",
       "                            </div></th><th><div class=\"djtooltip\">\n",
       "                                <p id=\"nonprimary\">coordinate_ml</p>\n",
       "                                <span class=\"djtooltiptext\">in mm, always postive, number larger when more lateral</span>\n",
       "                            </div></th><th><div class=\"djtooltip\">\n",
       "                                <p id=\"nonprimary\">coordinate_dv</p>\n",
       "                                <span class=\"djtooltiptext\">in mm, always postive, number larger when more ventral (deeper)</span>\n",
       "                            </div></th><th><div class=\"djtooltip\">\n",
       "                                <p id=\"nonprimary\">device_name</p>\n",
       "                                <span class=\"djtooltiptext\"></span>\n",
       "                            </div> </th> </tr> </thead>\n",
       "                <tbody> <tr> <td>ANM300476</td>\n",
       "<td>2017-05-20 18:28:59</td>\n",
       "<td>cell_20_1</td>\n",
       "<td>N/A</td>\n",
       "<td>ALM</td>\n",
       "<td>N/A</td>\n",
       "<td>N/A</td>\n",
       "<td>left</td>\n",
       "<td>bregma</td>\n",
       "<td>3</td>\n",
       "<td>2</td>\n",
       "<td>0</td>\n",
       "<td>Multiclamp_700B</td></tr><tr><td>ANM300476</td>\n",
       "<td>2017-05-20 18:42:55</td>\n",
       "<td>cell_22_1</td>\n",
       "<td>N/A</td>\n",
       "<td>ALM</td>\n",
       "<td>N/A</td>\n",
       "<td>N/A</td>\n",
       "<td>left</td>\n",
       "<td>bregma</td>\n",
       "<td>3</td>\n",
       "<td>2</td>\n",
       "<td>0</td>\n",
       "<td>Multiclamp_700B</td></tr><tr><td>ANM300476</td>\n",
       "<td>2017-05-20 18:43:57</td>\n",
       "<td>cell_23_1</td>\n",
       "<td>N/A</td>\n",
       "<td>ALM</td>\n",
       "<td>N/A</td>\n",
       "<td>N/A</td>\n",
       "<td>left</td>\n",
       "<td>bregma</td>\n",
       "<td>3</td>\n",
       "<td>2</td>\n",
       "<td>0</td>\n",
       "<td>Multiclamp_700B</td></tr><tr><td>ANM300476</td>\n",
       "<td>2017-05-20 18:44:45</td>\n",
       "<td>cell_25_1</td>\n",
       "<td>N/A</td>\n",
       "<td>ALM</td>\n",
       "<td>N/A</td>\n",
       "<td>N/A</td>\n",
       "<td>left</td>\n",
       "<td>bregma</td>\n",
       "<td>3</td>\n",
       "<td>2</td>\n",
       "<td>1</td>\n",
       "<td>Multiclamp_700B</td> </tr> </tbody>\n",
       "            </table>\n",
       "            \n",
       "            <p>4 tuples</p></div>\n",
       "            "
      ],
      "text/plain": [
       "*subject_id    *session_time  *cell_id      cell_type     brain_region   brain_subregio cortical_layer hemisphere     coordinate_ref coordinate_ap  coordinate_ml  coordinate_dv  device_name   \n",
       "+------------+ +------------+ +-----------+ +-----------+ +------------+ +------------+ +------------+ +------------+ +------------+ +------------+ +------------+ +------------+ +------------+\n",
       "ANM300476      2017-05-20 18: cell_20_1     N/A           ALM            N/A            N/A            left           bregma         3              2              0              Multiclamp_700\n",
       "ANM300476      2017-05-20 18: cell_22_1     N/A           ALM            N/A            N/A            left           bregma         3              2              0              Multiclamp_700\n",
       "ANM300476      2017-05-20 18: cell_23_1     N/A           ALM            N/A            N/A            left           bregma         3              2              0              Multiclamp_700\n",
       "ANM300476      2017-05-20 18: cell_25_1     N/A           ALM            N/A            N/A            left           bregma         3              2              1              Multiclamp_700\n",
       " (4 tuples)"
      ]
     },
     "execution_count": 11,
     "metadata": {},
     "output_type": "execute_result"
    }
   ],
   "source": [
    "acquisition.Cell & 'subject_id = \"ANM300476\"'"
   ]
  },
  {
   "cell_type": "code",
   "execution_count": 20,
   "metadata": {},
   "outputs": [
    {
     "data": {
      "text/html": [
       "\n",
       "        \n",
       "        <style type=\"text/css\">\n",
       "            .Relation{\n",
       "                border-collapse:collapse;\n",
       "            }\n",
       "            .Relation th{\n",
       "                background: #A0A0A0; color: #ffffff; padding:4px; border:#f0e0e0 1px solid;\n",
       "                font-weight: normal; font-family: monospace; font-size: 100%;\n",
       "            }\n",
       "            .Relation td{\n",
       "                padding:4px; border:#f0e0e0 1px solid; font-size:100%;\n",
       "            }\n",
       "            .Relation tr:nth-child(odd){\n",
       "                background: #ffffff;\n",
       "            }\n",
       "            .Relation tr:nth-child(even){\n",
       "                background: #f3f1ff;\n",
       "            }\n",
       "            /* Tooltip container */\n",
       "            .djtooltip {\n",
       "            }\n",
       "            /* Tooltip text */\n",
       "            .djtooltip .djtooltiptext {\n",
       "                visibility: hidden;\n",
       "                width: 120px;\n",
       "                background-color: black;\n",
       "                color: #fff;\n",
       "                text-align: center;\n",
       "                padding: 5px 0;\n",
       "                border-radius: 6px;\n",
       "                /* Position the tooltip text - see examples below! */\n",
       "                position: absolute;\n",
       "                z-index: 1;\n",
       "            }\n",
       "            #primary {\n",
       "                font-weight: bold;\n",
       "                color: black;\n",
       "            }\n",
       "\n",
       "            #nonprimary {\n",
       "                font-weight: normal;\n",
       "                color: white;\n",
       "            }\n",
       "\n",
       "            /* Show the tooltip text when you mouse over the tooltip container */\n",
       "            .djtooltip:hover .djtooltiptext {\n",
       "                visibility: visible;\n",
       "            }\n",
       "        </style>\n",
       "        \n",
       "        <b></b>\n",
       "            <div style=\"max-height:1000px;max-width:1500px;overflow:auto;\">\n",
       "            <table border=\"1\" class=\"Relation\">\n",
       "                <thead> <tr style=\"text-align: right;\"> <th> <div class=\"djtooltip\">\n",
       "                                <p id=\"primary\">subject_id</p>\n",
       "                                <span class=\"djtooltiptext\">id of the subject (e.g. ANM244028)</span>\n",
       "                            </div></th><th><div class=\"djtooltip\">\n",
       "                                <p id=\"primary\">session_time</p>\n",
       "                                <span class=\"djtooltiptext\">session time</span>\n",
       "                            </div></th><th><div class=\"djtooltip\">\n",
       "                                <p id=\"nonprimary\">session_directory</p>\n",
       "                                <span class=\"djtooltiptext\"></span>\n",
       "                            </div></th><th><div class=\"djtooltip\">\n",
       "                                <p id=\"nonprimary\">session_note</p>\n",
       "                                <span class=\"djtooltiptext\"></span>\n",
       "                            </div> </th> </tr> </thead>\n",
       "                <tbody> <tr> <td>ANM300476</td>\n",
       "<td>2017-05-20 18:28:59</td>\n",
       "<td></td>\n",
       "<td>ALM whole cell recording during M1 photoinhibition</td></tr><tr><td>ANM300476</td>\n",
       "<td>2017-05-20 18:42:55</td>\n",
       "<td></td>\n",
       "<td>ALM whole cell recording during M1 photoinhibition</td></tr><tr><td>ANM300476</td>\n",
       "<td>2017-05-20 18:43:57</td>\n",
       "<td></td>\n",
       "<td>ALM whole cell recording during M1 photoinhibition</td></tr><tr><td>ANM300476</td>\n",
       "<td>2017-05-20 18:44:45</td>\n",
       "<td></td>\n",
       "<td>ALM whole cell recording during M1 photoinhibition</td></tr><tr><td>ANM322808</td>\n",
       "<td>2017-05-20 19:27:14</td>\n",
       "<td></td>\n",
       "<td>ALM whole cell recording during thalamus photoinhibition</td></tr><tr><td>ANM322808</td>\n",
       "<td>2017-05-20 19:32:33</td>\n",
       "<td></td>\n",
       "<td>ALM whole cell recording during thalamus photoinhibition</td></tr><tr><td>ANM323951</td>\n",
       "<td>2017-05-20 18:54:17</td>\n",
       "<td></td>\n",
       "<td>ALM whole cell recording during M1 photoinhibition</td> </tr> </tbody>\n",
       "            </table>\n",
       "            <p>...</p>\n",
       "            <p>15 tuples</p></div>\n",
       "            "
      ],
      "text/plain": [
       "*subject_id    *session_time  session_direct session_note  \n",
       "+------------+ +------------+ +------------+ +------------+\n",
       "ANM300476      2017-05-20 18:                ALM whole cell\n",
       "ANM300476      2017-05-20 18:                ALM whole cell\n",
       "ANM300476      2017-05-20 18:                ALM whole cell\n",
       "ANM300476      2017-05-20 18:                ALM whole cell\n",
       "ANM322808      2017-05-20 19:                ALM whole cell\n",
       "ANM322808      2017-05-20 19:                ALM whole cell\n",
       "ANM323951      2017-05-20 18:                ALM whole cell\n",
       "   ...\n",
       " (15 tuples)"
      ]
     },
     "execution_count": 20,
     "metadata": {},
     "output_type": "execute_result"
    }
   ],
   "source": [
    "sess_keys = acquisition.Session.fetch(dj.key)\n",
    "acquisition.Session()"
   ]
  },
  {
   "cell_type": "code",
   "execution_count": 4,
   "metadata": {},
   "outputs": [
    {
     "name": "stdout",
     "output_type": "stream",
     "text": [
      "{'subject_id': 'ANM300476', 'session_time': datetime.datetime(2017, 5, 20, 18, 28, 59)}\n"
     ]
    }
   ],
   "source": [
    "sess_key = sess_keys[0]\n",
    "print(sess_key)"
   ]
  },
  {
   "cell_type": "code",
   "execution_count": 5,
   "metadata": {},
   "outputs": [],
   "source": [
    "cell_key = (acquisition.Cell & sess_key).fetch1(dj.key)\n",
    "Vm, Vm_wo_spike, timestamps = (acquisition.IntracellularAcquisition.MembranePotential & cell_key).fetch1(\n",
    "    'membrane_potential',\n",
    "    'membrane_potential_wo_spike',\n",
    "    'membrane_potential_time_stamps')"
   ]
  },
  {
   "cell_type": "code",
   "execution_count": 6,
   "metadata": {},
   "outputs": [
    {
     "data": {
      "text/plain": [
       "[<matplotlib.lines.Line2D at 0x15aea8d8400>]"
      ]
     },
     "execution_count": 6,
     "metadata": {},
     "output_type": "execute_result"
    },
    {
     "data": {
      "image/png": "[encoded data removed]",
      "text/plain": [
       "<Figure size 432x288 with 1 Axes>"
      ]
     },
     "metadata": {
      "needs_background": "light"
     },
     "output_type": "display_data"
    }
   ],
   "source": [
    "plt.plot(timestamps,Vm)"
   ]
  },
  {
   "cell_type": "code",
   "execution_count": 7,
   "metadata": {},
   "outputs": [
    {
     "data": {
      "text/plain": [
       "[<matplotlib.lines.Line2D at 0x15a899f96a0>]"
      ]
     },
     "execution_count": 7,
     "metadata": {},
     "output_type": "execute_result"
    },
    {
     "data": {
      "image/png": "[encoded data removed]",
      "text/plain": [
       "<Figure size 432x288 with 1 Axes>"
      ]
     },
     "metadata": {
      "needs_background": "light"
     },
     "output_type": "display_data"
    }
   ],
   "source": [
    "plt.plot(timestamps,Vm_wo_spike)"
   ]
  },
  {
   "cell_type": "markdown",
   "metadata": {},
   "source": [
    "Photostimulus "
   ]
  },
  {
   "cell_type": "code",
   "execution_count": 8,
   "metadata": {},
   "outputs": [],
   "source": [
    "photostim, photostim_timestamps = (acquisition.PhotoStimulation & sess_key).fetch1('photostim_timeseries','photostim_time_stamps')"
   ]
  },
  {
   "cell_type": "code",
   "execution_count": 9,
   "metadata": {},
   "outputs": [
    {
     "data": {
      "text/plain": [
       "[<matplotlib.lines.Line2D at 0x15a89cc8358>]"
      ]
     },
     "execution_count": 9,
     "metadata": {},
     "output_type": "execute_result"
    },
    {
     "data": {
      "image/png": "[encoded data removed]",
      "text/plain": [
       "<Figure size 432x288 with 1 Axes>"
      ]
     },
     "metadata": {
      "needs_background": "light"
     },
     "output_type": "display_data"
    }
   ],
   "source": [
    "plt.plot(photostim_timestamps,photostim)"
   ]
  },
  {
   "cell_type": "code",
   "execution_count": 12,
   "metadata": {},
   "outputs": [],
   "source": [
    "current, current_timestamps = (acquisition.IntracellularAcquisition.CurrentInjection & cell_key).fetch1(\n",
    "    'current_injection',\n",
    "    'current_injection_time_stamps')"
   ]
  },
  {
   "cell_type": "code",
   "execution_count": 17,
   "metadata": {},
   "outputs": [],
   "source": [
    "current_timestamps = current_timestamps[0,:]"
   ]
  },
  {
   "cell_type": "code",
   "execution_count": 18,
   "metadata": {},
   "outputs": [
    {
     "data": {
      "text/plain": [
       "[<matplotlib.lines.Line2D at 0x15ae9891898>]"
      ]
     },
     "execution_count": 18,
     "metadata": {},
     "output_type": "execute_result"
    },
    {
     "data": {
      "image/png": "[encoded data removed]",
      "text/plain": [
       "<Figure size 432x288 with 1 Axes>"
      ]
     },
     "metadata": {
      "needs_background": "light"
     },
     "output_type": "display_data"
    }
   ],
   "source": [
    "plt.plot(current_timestamps,current)"
   ]
  },
  {
   "cell_type": "code",
   "execution_count": 21,
   "metadata": {},
   "outputs": [
    {
     "data": {
      "text/html": [
       "\n",
       "        \n",
       "        <style type=\"text/css\">\n",
       "            .Relation{\n",
       "                border-collapse:collapse;\n",
       "            }\n",
       "            .Relation th{\n",
       "                background: #A0A0A0; color: #ffffff; padding:4px; border:#f0e0e0 1px solid;\n",
       "                font-weight: normal; font-family: monospace; font-size: 100%;\n",
       "            }\n",
       "            .Relation td{\n",
       "                padding:4px; border:#f0e0e0 1px solid; font-size:100%;\n",
       "            }\n",
       "            .Relation tr:nth-child(odd){\n",
       "                background: #ffffff;\n",
       "            }\n",
       "            .Relation tr:nth-child(even){\n",
       "                background: #f3f1ff;\n",
       "            }\n",
       "            /* Tooltip container */\n",
       "            .djtooltip {\n",
       "            }\n",
       "            /* Tooltip text */\n",
       "            .djtooltip .djtooltiptext {\n",
       "                visibility: hidden;\n",
       "                width: 120px;\n",
       "                background-color: black;\n",
       "                color: #fff;\n",
       "                text-align: center;\n",
       "                padding: 5px 0;\n",
       "                border-radius: 6px;\n",
       "                /* Position the tooltip text - see examples below! */\n",
       "                position: absolute;\n",
       "                z-index: 1;\n",
       "            }\n",
       "            #primary {\n",
       "                font-weight: bold;\n",
       "                color: black;\n",
       "            }\n",
       "\n",
       "            #nonprimary {\n",
       "                font-weight: normal;\n",
       "                color: white;\n",
       "            }\n",
       "\n",
       "            /* Show the tooltip text when you mouse over the tooltip container */\n",
       "            .djtooltip:hover .djtooltiptext {\n",
       "                visibility: visible;\n",
       "            }\n",
       "        </style>\n",
       "        \n",
       "        <b></b>\n",
       "            <div style=\"max-height:1000px;max-width:1500px;overflow:auto;\">\n",
       "            <table border=\"1\" class=\"Relation\">\n",
       "                <thead> <tr style=\"text-align: right;\"> <th> <div class=\"djtooltip\">\n",
       "                                <p id=\"primary\">subject_id</p>\n",
       "                                <span class=\"djtooltiptext\">id of the subject (e.g. ANM244028)</span>\n",
       "                            </div></th><th><div class=\"djtooltip\">\n",
       "                                <p id=\"primary\">session_time</p>\n",
       "                                <span class=\"djtooltiptext\">session time</span>\n",
       "                            </div></th><th><div class=\"djtooltip\">\n",
       "                                <p id=\"primary\">trial_id</p>\n",
       "                                <span class=\"djtooltiptext\">unique id of this trial in this trial set</span>\n",
       "                            </div></th><th><div class=\"djtooltip\">\n",
       "                                <p id=\"nonprimary\">trial_type</p>\n",
       "                                <span class=\"djtooltiptext\"></span>\n",
       "                            </div></th><th><div class=\"djtooltip\">\n",
       "                                <p id=\"nonprimary\">trial_response</p>\n",
       "                                <span class=\"djtooltiptext\"></span>\n",
       "                            </div></th><th><div class=\"djtooltip\">\n",
       "                                <p id=\"nonprimary\">trial_stim_present</p>\n",
       "                                <span class=\"djtooltiptext\">is this trial a Stimulation or No stimulation trial</span>\n",
       "                            </div></th><th><div class=\"djtooltip\">\n",
       "                                <p id=\"nonprimary\">trial_is_good</p>\n",
       "                                <span class=\"djtooltiptext\">is this a good or bad trial</span>\n",
       "                            </div> </th> </tr> </thead>\n",
       "                <tbody> <tr> <td>ANM300476</td>\n",
       "<td>2017-05-20 18:28:59</td>\n",
       "<td>Trial_066</td>\n",
       "<td>lick left</td>\n",
       "<td>correct</td>\n",
       "<td>0</td>\n",
       "<td>1</td></tr><tr><td>ANM300476</td>\n",
       "<td>2017-05-20 18:28:59</td>\n",
       "<td>Trial_067</td>\n",
       "<td>lick left</td>\n",
       "<td>correct</td>\n",
       "<td>0</td>\n",
       "<td>1</td></tr><tr><td>ANM300476</td>\n",
       "<td>2017-05-20 18:28:59</td>\n",
       "<td>Trial_068</td>\n",
       "<td>lick right</td>\n",
       "<td>correct</td>\n",
       "<td>0</td>\n",
       "<td>1</td></tr><tr><td>ANM300476</td>\n",
       "<td>2017-05-20 18:28:59</td>\n",
       "<td>Trial_069</td>\n",
       "<td>lick right</td>\n",
       "<td>correct</td>\n",
       "<td>0</td>\n",
       "<td>1</td></tr><tr><td>ANM300476</td>\n",
       "<td>2017-05-20 18:28:59</td>\n",
       "<td>Trial_070</td>\n",
       "<td>lick right</td>\n",
       "<td>early lick</td>\n",
       "<td>0</td>\n",
       "<td>0</td></tr><tr><td>ANM300476</td>\n",
       "<td>2017-05-20 18:28:59</td>\n",
       "<td>Trial_071</td>\n",
       "<td>lick left</td>\n",
       "<td>correct</td>\n",
       "<td>0</td>\n",
       "<td>1</td></tr><tr><td>ANM300476</td>\n",
       "<td>2017-05-20 18:28:59</td>\n",
       "<td>Trial_072</td>\n",
       "<td>lick left</td>\n",
       "<td>correct</td>\n",
       "<td>0</td>\n",
       "<td>1</td> </tr> </tbody>\n",
       "            </table>\n",
       "            <p>...</p>\n",
       "            <p>1085 tuples</p></div>\n",
       "            "
      ],
      "text/plain": [
       "*subject_id    *session_time  *trial_id     trial_type     trial_response trial_stim_pre trial_is_good \n",
       "+------------+ +------------+ +-----------+ +------------+ +------------+ +------------+ +------------+\n",
       "ANM300476      2017-05-20 18: Trial_066     lick left      correct        0              1             \n",
       "ANM300476      2017-05-20 18: Trial_067     lick left      correct        0              1             \n",
       "ANM300476      2017-05-20 18: Trial_068     lick right     correct        0              1             \n",
       "ANM300476      2017-05-20 18: Trial_069     lick right     correct        0              1             \n",
       "ANM300476      2017-05-20 18: Trial_070     lick right     early lick     0              0             \n",
       "ANM300476      2017-05-20 18: Trial_071     lick left      correct        0              1             \n",
       "ANM300476      2017-05-20 18: Trial_072     lick left      correct        0              1             \n",
       "   ...\n",
       " (1085 tuples)"
      ]
     },
     "execution_count": 21,
     "metadata": {},
     "output_type": "execute_result"
    }
   ],
   "source": [
    "acquisition.TrialSet.TrialInfo()"
   ]
  },
  {
   "cell_type": "code",
   "execution_count": 22,
   "metadata": {},
   "outputs": [
    {
     "data": {
      "text/html": [
       "\n",
       "        \n",
       "        <style type=\"text/css\">\n",
       "            .Relation{\n",
       "                border-collapse:collapse;\n",
       "            }\n",
       "            .Relation th{\n",
       "                background: #A0A0A0; color: #ffffff; padding:4px; border:#f0e0e0 1px solid;\n",
       "                font-weight: normal; font-family: monospace; font-size: 100%;\n",
       "            }\n",
       "            .Relation td{\n",
       "                padding:4px; border:#f0e0e0 1px solid; font-size:100%;\n",
       "            }\n",
       "            .Relation tr:nth-child(odd){\n",
       "                background: #ffffff;\n",
       "            }\n",
       "            .Relation tr:nth-child(even){\n",
       "                background: #f3f1ff;\n",
       "            }\n",
       "            /* Tooltip container */\n",
       "            .djtooltip {\n",
       "            }\n",
       "            /* Tooltip text */\n",
       "            .djtooltip .djtooltiptext {\n",
       "                visibility: hidden;\n",
       "                width: 120px;\n",
       "                background-color: black;\n",
       "                color: #fff;\n",
       "                text-align: center;\n",
       "                padding: 5px 0;\n",
       "                border-radius: 6px;\n",
       "                /* Position the tooltip text - see examples below! */\n",
       "                position: absolute;\n",
       "                z-index: 1;\n",
       "            }\n",
       "            #primary {\n",
       "                font-weight: bold;\n",
       "                color: black;\n",
       "            }\n",
       "\n",
       "            #nonprimary {\n",
       "                font-weight: normal;\n",
       "                color: white;\n",
       "            }\n",
       "\n",
       "            /* Show the tooltip text when you mouse over the tooltip container */\n",
       "            .djtooltip:hover .djtooltiptext {\n",
       "                visibility: visible;\n",
       "            }\n",
       "        </style>\n",
       "        \n",
       "        <b></b>\n",
       "            <div style=\"max-height:1000px;max-width:1500px;overflow:auto;\">\n",
       "            <table border=\"1\" class=\"Relation\">\n",
       "                <thead> <tr style=\"text-align: right;\"> <th> <div class=\"djtooltip\">\n",
       "                                <p id=\"primary\">subject_id</p>\n",
       "                                <span class=\"djtooltiptext\">id of the subject (e.g. ANM244028)</span>\n",
       "                            </div></th><th><div class=\"djtooltip\">\n",
       "                                <p id=\"primary\">session_time</p>\n",
       "                                <span class=\"djtooltiptext\">session time</span>\n",
       "                            </div></th><th><div class=\"djtooltip\">\n",
       "                                <p id=\"primary\">trial_id</p>\n",
       "                                <span class=\"djtooltiptext\">unique id of this trial in this trial set</span>\n",
       "                            </div></th><th><div class=\"djtooltip\">\n",
       "                                <p id=\"nonprimary\">cue_start_time</p>\n",
       "                                <span class=\"djtooltiptext\">cue onset of this trial, with respect to this trial's start time</span>\n",
       "                            </div></th><th><div class=\"djtooltip\">\n",
       "                                <p id=\"nonprimary\">cue_end_time</p>\n",
       "                                <span class=\"djtooltiptext\">cue end of this trial, with respect to this trial's start time</span>\n",
       "                            </div></th><th><div class=\"djtooltip\">\n",
       "                                <p id=\"nonprimary\">pole_in_time</p>\n",
       "                                <span class=\"djtooltiptext\">the start of sample period for each trial (e.g. the onset of pole motion towards the exploration area), relative to trial start time</span>\n",
       "                            </div></th><th><div class=\"djtooltip\">\n",
       "                                <p id=\"nonprimary\">pole_out_time</p>\n",
       "                                <span class=\"djtooltiptext\">the end of the sample period (e.g. the onset of pole motion away from the exploration area), relative to trial start time</span>\n",
       "                            </div></th><th><div class=\"djtooltip\">\n",
       "                                <p id=\"nonprimary\">start_time</p>\n",
       "                                <span class=\"djtooltiptext\">start time of this trial, with respect to starting point of this session</span>\n",
       "                            </div></th><th><div class=\"djtooltip\">\n",
       "                                <p id=\"nonprimary\">stop_time</p>\n",
       "                                <span class=\"djtooltiptext\">end time of this trial, with respect to starting point of this session</span>\n",
       "                            </div> </th> </tr> </thead>\n",
       "                <tbody> <tr> <td>ANM300476</td>\n",
       "<td>2017-05-20 18:28:59</td>\n",
       "<td>Trial_066</td>\n",
       "<td>17.156</td>\n",
       "<td>17.256</td>\n",
       "<td>14.5552</td>\n",
       "<td>15.9559</td>\n",
       "<td>13.9836</td>\n",
       "<td>23.4041</td></tr><tr><td>ANM300476</td>\n",
       "<td>2017-05-20 18:28:59</td>\n",
       "<td>Trial_067</td>\n",
       "<td>26.5769</td>\n",
       "<td>26.6769</td>\n",
       "<td>23.9759</td>\n",
       "<td>25.3766</td>\n",
       "<td>23.4041</td>\n",
       "<td>32.7011</td></tr><tr><td>ANM300476</td>\n",
       "<td>2017-05-20 18:28:59</td>\n",
       "<td>Trial_068</td>\n",
       "<td>35.874</td>\n",
       "<td>35.9741</td>\n",
       "<td>33.2731</td>\n",
       "<td>34.6738</td>\n",
       "<td>32.7011</td>\n",
       "<td>42.0741</td></tr><tr><td>ANM300476</td>\n",
       "<td>2017-05-20 18:28:59</td>\n",
       "<td>Trial_069</td>\n",
       "<td>45.2469</td>\n",
       "<td>45.347</td>\n",
       "<td>42.646</td>\n",
       "<td>44.0465</td>\n",
       "<td>42.0741</td>\n",
       "<td>51.4352</td></tr><tr><td>ANM300476</td>\n",
       "<td>2017-05-20 18:28:59</td>\n",
       "<td>Trial_070</td>\n",
       "<td>55.0606</td>\n",
       "<td>55.1607</td>\n",
       "<td>52.0071</td>\n",
       "<td>53.4077</td>\n",
       "<td>51.4352</td>\n",
       "<td>61.2331</td></tr><tr><td>ANM300476</td>\n",
       "<td>2017-05-20 18:28:59</td>\n",
       "<td>Trial_071</td>\n",
       "<td>64.4059</td>\n",
       "<td>64.5061</td>\n",
       "<td>61.8049</td>\n",
       "<td>63.2056</td>\n",
       "<td>61.2331</td>\n",
       "<td>70.6382</td></tr><tr><td>ANM300476</td>\n",
       "<td>2017-05-20 18:28:59</td>\n",
       "<td>Trial_072</td>\n",
       "<td>73.811</td>\n",
       "<td>73.9111</td>\n",
       "<td>71.2101</td>\n",
       "<td>72.6108</td>\n",
       "<td>70.6382</td>\n",
       "<td>80.0142</td> </tr> </tbody>\n",
       "            </table>\n",
       "            <p>...</p>\n",
       "            <p>1085 tuples</p></div>\n",
       "            "
      ],
      "text/plain": [
       "*subject_id    *session_time  *trial_id     cue_start_time cue_end_time   pole_in_time   pole_out_time  start_time     stop_time    \n",
       "+------------+ +------------+ +-----------+ +------------+ +------------+ +------------+ +------------+ +------------+ +-----------+\n",
       "ANM300476      2017-05-20 18: Trial_066     17.156         17.256         14.5552        15.9559        13.9836        23.4041      \n",
       "ANM300476      2017-05-20 18: Trial_067     26.5769        26.6769        23.9759        25.3766        23.4041        32.7011      \n",
       "ANM300476      2017-05-20 18: Trial_068     35.874         35.9741        33.2731        34.6738        32.7011        42.0741      \n",
       "ANM300476      2017-05-20 18: Trial_069     45.2469        45.347         42.646         44.0465        42.0741        51.4352      \n",
       "ANM300476      2017-05-20 18: Trial_070     55.0606        55.1607        52.0071        53.4077        51.4352        61.2331      \n",
       "ANM300476      2017-05-20 18: Trial_071     64.4059        64.5061        61.8049        63.2056        61.2331        70.6382      \n",
       "ANM300476      2017-05-20 18: Trial_072     73.811         73.9111        71.2101        72.6108        70.6382        80.0142      \n",
       "   ...\n",
       " (1085 tuples)"
      ]
     },
     "execution_count": 22,
     "metadata": {},
     "output_type": "execute_result"
    }
   ],
   "source": [
    "acquisition.TrialSet.Trial()"
   ]
  },
  {
   "cell_type": "code",
   "execution_count": null,
   "metadata": {},
   "outputs": [],
   "source": []
  }
 ],
 "metadata": {
  "kernelspec": {
   "display_name": "Python 3",
   "language": "python",
   "name": "python3"
  },
  "language_info": {
   "codemirror_mode": {
    "name": "ipython",
    "version": 3
   },
   "file_extension": ".py",
   "mimetype": "text/x-python",
   "name": "python",
   "nbconvert_exporter": "python",
   "pygments_lexer": "ipython3",
   "version": "3.7.0"
  }
 },
 "nbformat": 4,
 "nbformat_minor": 2
}
